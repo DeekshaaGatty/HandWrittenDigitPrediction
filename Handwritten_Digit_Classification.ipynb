{
  "nbformat": 4,
  "nbformat_minor": 0,
  "metadata": {
    "colab": {
      "provenance": [],
      "include_colab_link": true
    },
    "kernelspec": {
      "name": "python3",
      "display_name": "Python 3"
    },
    "language_info": {
      "name": "python"
    }
  },
  "cells": [
    {
      "cell_type": "markdown",
      "metadata": {
        "id": "view-in-github",
        "colab_type": "text"
      },
      "source": [
        "<a href=\"https://colab.research.google.com/github/DeekshaaGatty/HandWrittenDigitPrediction/blob/main/Handwritten_Digit_Classification.ipynb\" target=\"_parent\"><img src=\"https://colab.research.google.com/assets/colab-badge.svg\" alt=\"Open In Colab\"/></a>"
      ]
    },
    {
      "cell_type": "markdown",
      "source": [
        "#__Hand Written Digit Prediction - Classification Analysis__"
      ],
      "metadata": {
        "id": "vpp8n9otXWX_"
      }
    },
    {
      "cell_type": "markdown",
      "source": [
        "##_Objective: To train a Random Forest Classifier to classify images of handwritten digits from 0 to 9_"
      ],
      "metadata": {
        "id": "_6RKSCh-Xh7Y"
      }
    },
    {
      "cell_type": "markdown",
      "source": [
        "##_Data Source:  \"Digits\" dataset from scikit-learn (sklearn)_"
      ],
      "metadata": {
        "id": "kCxO0fAjZ5mc"
      }
    },
    {
      "cell_type": "markdown",
      "source": [
        "###Import Library"
      ],
      "metadata": {
        "id": "TlsCNBYraqab"
      }
    },
    {
      "cell_type": "code",
      "source": [
        "import pandas as pd\n",
        "import numpy as np\n",
        "import matplotlib.pyplot as plt"
      ],
      "metadata": {
        "id": "K1hotEmWXdzp"
      },
      "execution_count": null,
      "outputs": []
    },
    {
      "cell_type": "markdown",
      "source": [
        "###Import Data"
      ],
      "metadata": {
        "id": "UfCKPVjObzdG"
      }
    },
    {
      "cell_type": "code",
      "source": [
        "from sklearn.datasets import load_digits"
      ],
      "metadata": {
        "id": "fwDUnF08b9f0"
      },
      "execution_count": null,
      "outputs": []
    },
    {
      "cell_type": "code",
      "source": [
        "df = load_digits()"
      ],
      "metadata": {
        "id": "STJf7egAeaIb"
      },
      "execution_count": null,
      "outputs": []
    },
    {
      "cell_type": "markdown",
      "source": [
        "###Describe Data"
      ],
      "metadata": {
        "id": "T8eVf0ScdfnP"
      }
    },
    {
      "cell_type": "markdown",
      "source": [
        ">Dataset Size:\n",
        ">>Number of images:\n"
      ],
      "metadata": {
        "id": "xc7-rLWLiUtR"
      }
    },
    {
      "cell_type": "code",
      "source": [
        "len(df.images)"
      ],
      "metadata": {
        "colab": {
          "base_uri": "https://localhost:8080/"
        },
        "id": "VavaZPjYiiIt",
        "outputId": "bd667693-c6af-41e3-8c62-190b5fa59e47"
      },
      "execution_count": null,
      "outputs": [
        {
          "output_type": "execute_result",
          "data": {
            "text/plain": [
              "1797"
            ]
          },
          "metadata": {},
          "execution_count": 11
        }
      ]
    },
    {
      "cell_type": "markdown",
      "source": [
        ">>Image dimensions:"
      ],
      "metadata": {
        "id": "XmjcVNzripiK"
      }
    },
    {
      "cell_type": "code",
      "source": [
        "df.images[0].shape"
      ],
      "metadata": {
        "colab": {
          "base_uri": "https://localhost:8080/"
        },
        "id": "rLdn5jAHixAG",
        "outputId": "e60da93e-0346-4ce3-d7d1-832103df43c5"
      },
      "execution_count": null,
      "outputs": [
        {
          "output_type": "execute_result",
          "data": {
            "text/plain": [
              "(8, 8)"
            ]
          },
          "metadata": {},
          "execution_count": 12
        }
      ]
    },
    {
      "cell_type": "markdown",
      "source": [
        ">Label Information:\n",
        ">>Number of classes:"
      ],
      "metadata": {
        "id": "xgKH-woqi07K"
      }
    },
    {
      "cell_type": "code",
      "source": [
        "len(df.target_names)"
      ],
      "metadata": {
        "colab": {
          "base_uri": "https://localhost:8080/"
        },
        "id": "ONcYW0smi-9T",
        "outputId": "df56ecfd-a75f-4cb1-9248-cc3c3d7b9378"
      },
      "execution_count": null,
      "outputs": [
        {
          "output_type": "execute_result",
          "data": {
            "text/plain": [
              "10"
            ]
          },
          "metadata": {},
          "execution_count": 14
        }
      ]
    },
    {
      "cell_type": "markdown",
      "source": [
        ">>Class distribution:"
      ],
      "metadata": {
        "id": "5GapImMPjIr1"
      }
    },
    {
      "cell_type": "code",
      "source": [
        "{class_label: sum(df.target == class_label) for class_label in df.target_names}"
      ],
      "metadata": {
        "colab": {
          "base_uri": "https://localhost:8080/"
        },
        "id": "D988LOjjjQh4",
        "outputId": "22f80c1a-2e63-4780-a41f-91afb4db21b9"
      },
      "execution_count": null,
      "outputs": [
        {
          "output_type": "execute_result",
          "data": {
            "text/plain": [
              "{0: 178,\n",
              " 1: 182,\n",
              " 2: 177,\n",
              " 3: 183,\n",
              " 4: 181,\n",
              " 5: 182,\n",
              " 6: 181,\n",
              " 7: 179,\n",
              " 8: 174,\n",
              " 9: 180}"
            ]
          },
          "metadata": {},
          "execution_count": 15
        }
      ]
    },
    {
      "cell_type": "markdown",
      "source": [
        ">Pixel Value Range:\n",
        ">>Minimum pixel value:"
      ],
      "metadata": {
        "id": "mkBy4rBljhVN"
      }
    },
    {
      "cell_type": "code",
      "source": [
        "df.images.min()"
      ],
      "metadata": {
        "colab": {
          "base_uri": "https://localhost:8080/"
        },
        "id": "gO7Gsgczd0GS",
        "outputId": "c4c10788-dc27-424b-961e-bf1569bf1846"
      },
      "execution_count": null,
      "outputs": [
        {
          "output_type": "execute_result",
          "data": {
            "text/plain": [
              "0.0"
            ]
          },
          "metadata": {},
          "execution_count": 16
        }
      ]
    },
    {
      "cell_type": "markdown",
      "source": [
        ">>Maximum pixel value:"
      ],
      "metadata": {
        "id": "KT9E5J2NjyIl"
      }
    },
    {
      "cell_type": "code",
      "source": [
        "df.images.max()"
      ],
      "metadata": {
        "colab": {
          "base_uri": "https://localhost:8080/"
        },
        "id": "UJkw8UO0fll1",
        "outputId": "7ab2f6ac-4483-46d4-f5c4-5b9b252d68f6"
      },
      "execution_count": null,
      "outputs": [
        {
          "output_type": "execute_result",
          "data": {
            "text/plain": [
              "16.0"
            ]
          },
          "metadata": {},
          "execution_count": 17
        }
      ]
    },
    {
      "cell_type": "markdown",
      "source": [
        "###Data Visualization"
      ],
      "metadata": {
        "id": "zJtmX67WkFu9"
      }
    },
    {
      "cell_type": "code",
      "source": [
        "_, axes = plt.subplots(nrows=1, ncols=6,figsize=(10,3))\n",
        "for ax, image,label in zip(axes, df.images,df.target):\n",
        "    ax.set_axis_off()\n",
        "    ax.imshow(image, cmap=plt.cm.gray_r, interpolation=\"nearest\")\n",
        "    ax.set_title(\"Training: %i\"%label)"
      ],
      "metadata": {
        "colab": {
          "base_uri": "https://localhost:8080/",
          "height": 170
        },
        "id": "4xGpcWuuj2I_",
        "outputId": "5fab6be9-547d-46b4-c3c0-247f9adc86be"
      },
      "execution_count": null,
      "outputs": [
        {
          "output_type": "display_data",
          "data": {
            "text/plain": [
              "<Figure size 1000x300 with 6 Axes>"
            ],
            "image/png": "[encoded data removed]"
          },
          "metadata": {}
        }
      ]
    },
    {
      "cell_type": "markdown",
      "source": [
        "###Data Preprocessing"
      ],
      "metadata": {
        "id": "1JiH1SrQkvtG"
      }
    },
    {
      "cell_type": "code",
      "source": [
        "n_samples = len(df.images)\n",
        "data = df.images.reshape((n_samples,-1))"
      ],
      "metadata": {
        "id": "xCe6mtvpkW8o"
      },
      "execution_count": null,
      "outputs": []
    },
    {
      "cell_type": "code",
      "source": [
        "data[0]"
      ],
      "metadata": {
        "colab": {
          "base_uri": "https://localhost:8080/"
        },
        "id": "eK2fvmYJk89z",
        "outputId": "5b24bfa9-ae41-4ed3-e97f-82b59e86ef07"
      },
      "execution_count": null,
      "outputs": [
        {
          "output_type": "execute_result",
          "data": {
            "text/plain": [
              "array([ 0.,  0.,  5., 13.,  9.,  1.,  0.,  0.,  0.,  0., 13., 15., 10.,\n",
              "       15.,  5.,  0.,  0.,  3., 15.,  2.,  0., 11.,  8.,  0.,  0.,  4.,\n",
              "       12.,  0.,  0.,  8.,  8.,  0.,  0.,  5.,  8.,  0.,  0.,  9.,  8.,\n",
              "        0.,  0.,  4., 11.,  0.,  1., 12.,  7.,  0.,  0.,  2., 14.,  5.,\n",
              "       10., 12.,  0.,  0.,  0.,  0.,  6., 13., 10.,  0.,  0.,  0.])"
            ]
          },
          "metadata": {},
          "execution_count": 26
        }
      ]
    },
    {
      "cell_type": "code",
      "source": [
        "data[0].shape"
      ],
      "metadata": {
        "colab": {
          "base_uri": "https://localhost:8080/"
        },
        "id": "PwVsxqmfk_yc",
        "outputId": "b4aa3535-0263-470a-d255-44c41e6151a8"
      },
      "execution_count": null,
      "outputs": [
        {
          "output_type": "execute_result",
          "data": {
            "text/plain": [
              "(64,)"
            ]
          },
          "metadata": {},
          "execution_count": 27
        }
      ]
    },
    {
      "cell_type": "code",
      "source": [
        "data.shape"
      ],
      "metadata": {
        "colab": {
          "base_uri": "https://localhost:8080/"
        },
        "id": "Cc0N3BOwlDLw",
        "outputId": "8312ed86-049f-4fd4-a96f-6aa6d0bcf868"
      },
      "execution_count": null,
      "outputs": [
        {
          "output_type": "execute_result",
          "data": {
            "text/plain": [
              "(1797, 64)"
            ]
          },
          "metadata": {},
          "execution_count": 28
        }
      ]
    },
    {
      "cell_type": "markdown",
      "source": [
        ">Scaling Image Data"
      ],
      "metadata": {
        "id": "qPxalCX9lQmD"
      }
    },
    {
      "cell_type": "code",
      "source": [
        "data.min()"
      ],
      "metadata": {
        "colab": {
          "base_uri": "https://localhost:8080/"
        },
        "id": "GS50IrPSlQBu",
        "outputId": "42da8d44-2f5c-4441-b9ff-3cc10d3d4064"
      },
      "execution_count": null,
      "outputs": [
        {
          "output_type": "execute_result",
          "data": {
            "text/plain": [
              "0.0"
            ]
          },
          "metadata": {},
          "execution_count": 29
        }
      ]
    },
    {
      "cell_type": "code",
      "source": [
        "data.max()"
      ],
      "metadata": {
        "colab": {
          "base_uri": "https://localhost:8080/"
        },
        "id": "Mok3jq76lKJw",
        "outputId": "2e625bbc-d7dc-469f-8c76-c8e48f727b93"
      },
      "execution_count": null,
      "outputs": [
        {
          "output_type": "execute_result",
          "data": {
            "text/plain": [
              "16.0"
            ]
          },
          "metadata": {},
          "execution_count": 30
        }
      ]
    },
    {
      "cell_type": "code",
      "source": [
        "data = data/16"
      ],
      "metadata": {
        "id": "gUB_u62FlZsh"
      },
      "execution_count": null,
      "outputs": []
    },
    {
      "cell_type": "code",
      "source": [
        "data.min()"
      ],
      "metadata": {
        "colab": {
          "base_uri": "https://localhost:8080/"
        },
        "id": "j0FEAjiilb9B",
        "outputId": "e1ad0c1f-0018-4548-f13b-d18d005cfb27"
      },
      "execution_count": null,
      "outputs": [
        {
          "output_type": "execute_result",
          "data": {
            "text/plain": [
              "0.0"
            ]
          },
          "metadata": {},
          "execution_count": 32
        }
      ]
    },
    {
      "cell_type": "code",
      "source": [
        "data.max()"
      ],
      "metadata": {
        "colab": {
          "base_uri": "https://localhost:8080/"
        },
        "id": "dPAM2Hn6le2J",
        "outputId": "31517e62-c39f-4be2-f14f-1d32685b2b83"
      },
      "execution_count": null,
      "outputs": [
        {
          "output_type": "execute_result",
          "data": {
            "text/plain": [
              "1.0"
            ]
          },
          "metadata": {},
          "execution_count": 33
        }
      ]
    },
    {
      "cell_type": "code",
      "source": [
        "data[0]"
      ],
      "metadata": {
        "colab": {
          "base_uri": "https://localhost:8080/"
        },
        "id": "oeURW2nelhaE",
        "outputId": "2dbd9b6d-15be-4b80-bb10-500521273a09"
      },
      "execution_count": null,
      "outputs": [
        {
          "output_type": "execute_result",
          "data": {
            "text/plain": [
              "array([0.    , 0.    , 0.3125, 0.8125, 0.5625, 0.0625, 0.    , 0.    ,\n",
              "       0.    , 0.    , 0.8125, 0.9375, 0.625 , 0.9375, 0.3125, 0.    ,\n",
              "       0.    , 0.1875, 0.9375, 0.125 , 0.    , 0.6875, 0.5   , 0.    ,\n",
              "       0.    , 0.25  , 0.75  , 0.    , 0.    , 0.5   , 0.5   , 0.    ,\n",
              "       0.    , 0.3125, 0.5   , 0.    , 0.    , 0.5625, 0.5   , 0.    ,\n",
              "       0.    , 0.25  , 0.6875, 0.    , 0.0625, 0.75  , 0.4375, 0.    ,\n",
              "       0.    , 0.125 , 0.875 , 0.3125, 0.625 , 0.75  , 0.    , 0.    ,\n",
              "       0.    , 0.    , 0.375 , 0.8125, 0.625 , 0.    , 0.    , 0.    ])"
            ]
          },
          "metadata": {},
          "execution_count": 34
        }
      ]
    },
    {
      "cell_type": "markdown",
      "source": [
        "###Define Target Variable (y) and Feature Variables (X)"
      ],
      "metadata": {
        "id": "J11CSfwTlpcQ"
      }
    },
    {
      "cell_type": "code",
      "source": [
        "X=data"
      ],
      "metadata": {
        "id": "WWOyqQyBljeZ"
      },
      "execution_count": null,
      "outputs": []
    },
    {
      "cell_type": "code",
      "source": [
        "y = df.target"
      ],
      "metadata": {
        "id": "Tixkp1WQmHva"
      },
      "execution_count": null,
      "outputs": []
    },
    {
      "cell_type": "markdown",
      "source": [
        "###Train Test Split"
      ],
      "metadata": {
        "id": "vw_0jXTomTBk"
      }
    },
    {
      "cell_type": "code",
      "source": [
        "from sklearn.model_selection import train_test_split\n",
        "x_train, x_test, y_train, y_test = train_test_split(X,y,test_size=0.3)\n",
        "x_train.shape, x_test.shape, y_train.shape, y_test.shape"
      ],
      "metadata": {
        "colab": {
          "base_uri": "https://localhost:8080/"
        },
        "id": "_r4OTAyCmPXF",
        "outputId": "78248641-5d5f-41ef-a54b-f5994784e013"
      },
      "execution_count": null,
      "outputs": [
        {
          "output_type": "execute_result",
          "data": {
            "text/plain": [
              "((1257, 64), (540, 64), (1257,), (540,))"
            ]
          },
          "metadata": {},
          "execution_count": 37
        }
      ]
    },
    {
      "cell_type": "markdown",
      "source": [
        "###Modeling"
      ],
      "metadata": {
        "id": "4eCK80_AmlY_"
      }
    },
    {
      "cell_type": "code",
      "source": [
        "from sklearn.ensemble import RandomForestClassifier\n",
        "rf = RandomForestClassifier()\n",
        "rf.fit(x_train,y_train)"
      ],
      "metadata": {
        "colab": {
          "base_uri": "https://localhost:8080/",
          "height": 74
        },
        "id": "4kWYTEYBmiLi",
        "outputId": "2161b97e-68ad-4d06-e2de-e467b9d6e1e4"
      },
      "execution_count": null,
      "outputs": [
        {
          "output_type": "execute_result",
          "data": {
            "text/plain": [
              "RandomForestClassifier()"
            ],
            "text/html": [
              "<style>#sk-container-id-1 {color: black;background-color: white;}#sk-container-id-1 pre{padding: 0;}#sk-container-id-1 div.sk-toggleable {background-color: white;}#sk-container-id-1 label.sk-toggleable__label {cursor: pointer;display: block;width: 100%;margin-bottom: 0;padding: 0.3em;box-sizing: border-box;text-align: center;}#sk-container-id-1 label.sk-toggleable__label-arrow:before {content: \"▸\";float: left;margin-right: 0.25em;color: #696969;}#sk-container-id-1 label.sk-toggleable__label-arrow:hover:before {color: black;}#sk-container-id-1 div.sk-estimator:hover label.sk-toggleable__label-arrow:before {color: black;}#sk-container-id-1 div.sk-toggleable__content {max-height: 0;max-width: 0;overflow: hidden;text-align: left;background-color: #f0f8ff;}#sk-container-id-1 div.sk-toggleable__content pre {margin: 0.2em;color: black;border-radius: 0.25em;background-color: #f0f8ff;}#sk-container-id-1 input.sk-toggleable__control:checked~div.sk-toggleable__content {max-height: 200px;max-width: 100%;overflow: auto;}#sk-container-id-1 input.sk-toggleable__control:checked~label.sk-toggleable__label-arrow:before {content: \"▾\";}#sk-container-id-1 div.sk-estimator input.sk-toggleable__control:checked~label.sk-toggleable__label {background-color: #d4ebff;}#sk-container-id-1 div.sk-label input.sk-toggleable__control:checked~label.sk-toggleable__label {background-color: #d4ebff;}#sk-container-id-1 input.sk-hidden--visually {border: 0;clip: rect(1px 1px 1px 1px);clip: rect(1px, 1px, 1px, 1px);height: 1px;margin: -1px;overflow: hidden;padding: 0;position: absolute;width: 1px;}#sk-container-id-1 div.sk-estimator {font-family: monospace;background-color: #f0f8ff;border: 1px dotted black;border-radius: 0.25em;box-sizing: border-box;margin-bottom: 0.5em;}#sk-container-id-1 div.sk-estimator:hover {background-color: #d4ebff;}#sk-container-id-1 div.sk-parallel-item::after {content: \"\";width: 100%;border-bottom: 1px solid gray;flex-grow: 1;}#sk-container-id-1 div.sk-label:hover label.sk-toggleable__label {background-color: #d4ebff;}#sk-container-id-1 div.sk-serial::before {content: \"\";position: absolute;border-left: 1px solid gray;box-sizing: border-box;top: 0;bottom: 0;left: 50%;z-index: 0;}#sk-container-id-1 div.sk-serial {display: flex;flex-direction: column;align-items: center;background-color: white;padding-right: 0.2em;padding-left: 0.2em;position: relative;}#sk-container-id-1 div.sk-item {position: relative;z-index: 1;}#sk-container-id-1 div.sk-parallel {display: flex;align-items: stretch;justify-content: center;background-color: white;position: relative;}#sk-container-id-1 div.sk-item::before, #sk-container-id-1 div.sk-parallel-item::before {content: \"\";position: absolute;border-left: 1px solid gray;box-sizing: border-box;top: 0;bottom: 0;left: 50%;z-index: -1;}#sk-container-id-1 div.sk-parallel-item {display: flex;flex-direction: column;z-index: 1;position: relative;background-color: white;}#sk-container-id-1 div.sk-parallel-item:first-child::after {align-self: flex-end;width: 50%;}#sk-container-id-1 div.sk-parallel-item:last-child::after {align-self: flex-start;width: 50%;}#sk-container-id-1 div.sk-parallel-item:only-child::after {width: 0;}#sk-container-id-1 div.sk-dashed-wrapped {border: 1px dashed gray;margin: 0 0.4em 0.5em 0.4em;box-sizing: border-box;padding-bottom: 0.4em;background-color: white;}#sk-container-id-1 div.sk-label label {font-family: monospace;font-weight: bold;display: inline-block;line-height: 1.2em;}#sk-container-id-1 div.sk-label-container {text-align: center;}#sk-container-id-1 div.sk-container {/* jupyter's `normalize.less` sets `[hidden] { display: none; }` but bootstrap.min.css set `[hidden] { display: none !important; }` so we also need the `!important` here to be able to override the default hidden behavior on the sphinx rendered scikit-learn.org. See: https://github.com/scikit-learn/scikit-learn/issues/21755 */display: inline-block !important;position: relative;}#sk-container-id-1 div.sk-text-repr-fallback {display: none;}</style><div id=\"sk-container-id-1\" class=\"sk-top-container\"><div class=\"sk-text-repr-fallback\"><pre>RandomForestClassifier()</pre><b>In a Jupyter environment, please rerun this cell to show the HTML representation or trust the notebook. <br />On GitHub, the HTML representation is unable to render, please try loading this page with nbviewer.org.</b></div><div class=\"sk-container\" hidden><div class=\"sk-item\"><div class=\"sk-estimator sk-toggleable\"><input class=\"sk-toggleable__control sk-hidden--visually\" id=\"sk-estimator-id-1\" type=\"checkbox\" checked><label for=\"sk-estimator-id-1\" class=\"sk-toggleable__label sk-toggleable__label-arrow\">RandomForestClassifier</label><div class=\"sk-toggleable__content\"><pre>RandomForestClassifier()</pre></div></div></div></div></div>"
            ]
          },
          "metadata": {},
          "execution_count": 38
        }
      ]
    },
    {
      "cell_type": "markdown",
      "source": [
        "###Prediction"
      ],
      "metadata": {
        "id": "t4AhnI4inLT9"
      }
    },
    {
      "cell_type": "code",
      "source": [
        "y_pred=rf.predict(x_test)\n",
        "y_pred"
      ],
      "metadata": {
        "colab": {
          "base_uri": "https://localhost:8080/"
        },
        "id": "bmkR-chnm68U",
        "outputId": "9a2aae95-489a-4ee3-e13d-100a8cc4239e"
      },
      "execution_count": null,
      "outputs": [
        {
          "output_type": "execute_result",
          "data": {
            "text/plain": [
              "array([9, 0, 8, 5, 6, 8, 4, 0, 0, 5, 0, 1, 3, 7, 9, 2, 0, 1, 5, 1, 7, 5,\n",
              "       3, 5, 5, 5, 4, 2, 5, 2, 0, 0, 9, 0, 2, 4, 6, 3, 9, 5, 4, 6, 8, 3,\n",
              "       2, 9, 4, 4, 6, 7, 6, 6, 7, 8, 2, 9, 7, 8, 7, 4, 1, 1, 9, 3, 9, 4,\n",
              "       4, 5, 6, 9, 6, 6, 2, 8, 8, 3, 4, 3, 8, 3, 0, 7, 9, 2, 1, 0, 7, 4,\n",
              "       9, 5, 8, 2, 5, 3, 4, 0, 7, 2, 6, 1, 0, 4, 8, 1, 8, 7, 6, 5, 8, 5,\n",
              "       3, 7, 5, 0, 4, 0, 5, 7, 5, 9, 7, 9, 5, 3, 4, 5, 2, 8, 2, 5, 2, 4,\n",
              "       7, 4, 9, 8, 7, 9, 0, 0, 0, 8, 1, 5, 1, 1, 4, 8, 9, 1, 3, 9, 0, 7,\n",
              "       0, 9, 1, 3, 2, 0, 4, 2, 7, 8, 1, 6, 0, 3, 1, 2, 1, 1, 9, 3, 6, 8,\n",
              "       9, 0, 1, 7, 7, 4, 3, 2, 5, 9, 3, 9, 4, 1, 0, 0, 8, 6, 9, 8, 2, 1,\n",
              "       5, 0, 4, 5, 6, 8, 8, 7, 8, 3, 7, 9, 0, 2, 3, 4, 2, 2, 3, 3, 9, 4,\n",
              "       1, 6, 8, 8, 7, 9, 4, 1, 1, 7, 3, 3, 5, 0, 4, 9, 6, 3, 3, 7, 7, 1,\n",
              "       3, 3, 3, 7, 7, 2, 9, 2, 9, 5, 0, 8, 3, 2, 0, 2, 1, 9, 9, 8, 1, 7,\n",
              "       6, 5, 0, 1, 9, 1, 5, 5, 5, 7, 1, 6, 5, 4, 3, 9, 4, 6, 5, 3, 4, 5,\n",
              "       1, 4, 6, 2, 6, 1, 0, 1, 2, 1, 1, 2, 9, 7, 6, 0, 9, 6, 7, 3, 6, 7,\n",
              "       1, 5, 2, 1, 9, 0, 6, 6, 5, 2, 4, 1, 6, 0, 4, 8, 6, 8, 4, 8, 1, 1,\n",
              "       6, 8, 6, 6, 8, 9, 4, 1, 0, 2, 7, 7, 8, 0, 4, 1, 3, 1, 6, 8, 7, 0,\n",
              "       3, 4, 8, 0, 4, 7, 2, 9, 0, 0, 3, 2, 7, 7, 2, 3, 1, 0, 1, 8, 9, 0,\n",
              "       0, 5, 2, 3, 6, 2, 9, 1, 7, 1, 3, 5, 5, 3, 1, 2, 7, 4, 5, 8, 4, 6,\n",
              "       8, 5, 8, 6, 9, 0, 9, 0, 5, 1, 8, 0, 4, 7, 8, 9, 6, 9, 6, 8, 1, 0,\n",
              "       6, 8, 9, 7, 9, 2, 3, 8, 2, 5, 9, 2, 5, 1, 4, 4, 1, 2, 3, 3, 9, 6,\n",
              "       2, 6, 5, 1, 0, 8, 6, 0, 2, 8, 2, 2, 2, 9, 9, 3, 8, 0, 9, 4, 7, 7,\n",
              "       0, 5, 7, 7, 8, 4, 1, 0, 0, 0, 6, 4, 6, 6, 5, 4, 6, 7, 1, 7, 7, 7,\n",
              "       8, 3, 0, 2, 9, 0, 8, 1, 4, 2, 0, 4, 8, 5, 4, 0, 0, 4, 0, 8, 4, 1,\n",
              "       2, 7, 1, 8, 5, 5, 5, 6, 4, 9, 8, 2, 8, 9, 8, 9, 4, 8, 6, 6, 3, 6,\n",
              "       1, 8, 5, 1, 7, 2, 2, 8, 3, 9, 6, 3])"
            ]
          },
          "metadata": {},
          "execution_count": 39
        }
      ]
    },
    {
      "cell_type": "markdown",
      "source": [
        "###Model Evaluation"
      ],
      "metadata": {
        "id": "5po-O5a6nW-1"
      }
    },
    {
      "cell_type": "code",
      "source": [
        "from sklearn.metrics import confusion_matrix, classification_report"
      ],
      "metadata": {
        "id": "majIkC64nPmo"
      },
      "execution_count": null,
      "outputs": []
    },
    {
      "cell_type": "code",
      "source": [
        "confusion_matrix(y_test,y_pred)"
      ],
      "metadata": {
        "colab": {
          "base_uri": "https://localhost:8080/"
        },
        "id": "83TSGqH8nc54",
        "outputId": "f1e79f22-8d49-427b-89e5-148796ede30e"
      },
      "execution_count": null,
      "outputs": [
        {
          "output_type": "execute_result",
          "data": {
            "text/plain": [
              "array([[58,  0,  0,  0,  1,  0,  0,  0,  0,  0],\n",
              "       [ 0, 58,  0,  0,  0,  0,  0,  0,  0,  0],\n",
              "       [ 0,  0, 52,  0,  0,  0,  0,  0,  0,  0],\n",
              "       [ 0,  1,  0, 47,  0,  0,  0,  1,  3,  0],\n",
              "       [ 0,  0,  0,  0, 51,  0,  0,  0,  1,  0],\n",
              "       [ 0,  0,  0,  0,  1, 49,  0,  0,  0,  1],\n",
              "       [ 1,  0,  0,  0,  0,  1, 51,  0,  0,  0],\n",
              "       [ 0,  0,  0,  0,  0,  0,  0, 49,  1,  0],\n",
              "       [ 1,  0,  0,  0,  0,  0,  0,  1, 52,  0],\n",
              "       [ 0,  0,  0,  0,  0,  1,  0,  1,  2, 55]])"
            ]
          },
          "metadata": {},
          "execution_count": 41
        }
      ]
    },
    {
      "cell_type": "code",
      "source": [
        "print(classification_report(y_test,y_pred))"
      ],
      "metadata": {
        "colab": {
          "base_uri": "https://localhost:8080/"
        },
        "id": "mALsN-0Nne-H",
        "outputId": "63a58271-702d-440f-e001-8083ab0eaa67"
      },
      "execution_count": null,
      "outputs": [
        {
          "output_type": "stream",
          "name": "stdout",
          "text": [
            "              precision    recall  f1-score   support\n",
            "\n",
            "           0       0.97      0.98      0.97        59\n",
            "           1       0.98      1.00      0.99        58\n",
            "           2       1.00      1.00      1.00        52\n",
            "           3       1.00      0.90      0.95        52\n",
            "           4       0.96      0.98      0.97        52\n",
            "           5       0.96      0.96      0.96        51\n",
            "           6       1.00      0.96      0.98        53\n",
            "           7       0.94      0.98      0.96        50\n",
            "           8       0.88      0.96      0.92        54\n",
            "           9       0.98      0.93      0.96        59\n",
            "\n",
            "    accuracy                           0.97       540\n",
            "   macro avg       0.97      0.97      0.97       540\n",
            "weighted avg       0.97      0.97      0.97       540\n",
            "\n"
          ]
        }
      ]
    }
  ]
}